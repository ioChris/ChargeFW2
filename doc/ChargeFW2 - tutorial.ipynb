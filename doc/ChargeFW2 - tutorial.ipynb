{
 "cells": [
  {
   "cell_type": "markdown",
   "metadata": {},
   "source": [
    "# ChargeFW2 Python bindings"
   ]
  },
  {
   "cell_type": "markdown",
   "metadata": {},
   "source": [
    "This tutorial shows how to use the Python bindings to the ChargeFW2 application, the computation core of Atomic Charge Calculator II (https://acc2.ncbr.muni.cz/)."
   ]
  },
  {
   "cell_type": "markdown",
   "metadata": {},
   "source": [
    "## Installation"
   ]
  },
  {
   "cell_type": "markdown",
   "metadata": {},
   "source": [
    "The ChargeFW2 is a C++ application which must be compiled and installed first. See the README: https://github.com/krab1k/ChargeFW2"
   ]
  },
  {
   "cell_type": "markdown",
   "metadata": {},
   "source": [
    "To use the Python module, it might be necessary to point Python interpreter to the correct library's location. This can be done by setting a PYTHONPATH environment variable. Assuming we installed ChargeFW2 into the directory `/opt/chargefw2`, we set:"
   ]
  },
  {
   "cell_type": "markdown",
   "metadata": {},
   "source": [
    "```bash\n",
    "export PYTHONPATH=/opt/chargefw2/lib\n",
    "```"
   ]
  },
  {
   "cell_type": "markdown",
   "metadata": {},
   "source": [
    "Now we are ready to run Python and use the ChargeFW2 module."
   ]
  },
  {
   "cell_type": "markdown",
   "metadata": {},
   "source": [
    "## Usage"
   ]
  },
  {
   "cell_type": "markdown",
   "metadata": {},
   "source": [
    "First, we import the Python module:"
   ]
  },
  {
   "cell_type": "code",
   "execution_count": 1,
   "metadata": {},
   "outputs": [],
   "source": [
    "import chargefw2_python"
   ]
  },
  {
   "cell_type": "markdown",
   "metadata": {},
   "source": [
    "### Loading the molecules"
   ]
  },
  {
   "cell_type": "markdown",
   "metadata": {},
   "source": [
    "Then we load the molecules. Supported formats are: SDF, PDB, mmCIF and Mol2."
   ]
  },
  {
   "cell_type": "code",
   "execution_count": 2,
   "metadata": {},
   "outputs": [],
   "source": [
    "molecules = chargefw2_python.Molecules('molecules.sdf')"
   ]
  },
  {
   "cell_type": "markdown",
   "metadata": {},
   "source": [
    "Let's see how many molecules we have loaded:"
   ]
  },
  {
   "cell_type": "code",
   "execution_count": 3,
   "metadata": {},
   "outputs": [
    {
     "data": {
      "text/plain": [
       "47"
      ]
     },
     "execution_count": 3,
     "metadata": {},
     "output_type": "execute_result"
    }
   ],
   "source": [
    "len(molecules)"
   ]
  },
  {
   "cell_type": "markdown",
   "metadata": {},
   "source": [
    "### Available methods and parameters"
   ]
  },
  {
   "cell_type": "markdown",
   "metadata": {},
   "source": [
    "ChargeFW2 provides implementation of multiple charge calculation methods. The full list can be obtained by:"
   ]
  },
  {
   "cell_type": "code",
   "execution_count": 4,
   "metadata": {},
   "outputs": [
    {
     "data": {
      "text/plain": [
       "['eem',\n",
       " 'abeem',\n",
       " 'sfkeem',\n",
       " 'qeq',\n",
       " 'smpqeq',\n",
       " 'eqeq',\n",
       " 'eqeqc',\n",
       " 'delre',\n",
       " 'peoe',\n",
       " 'mpeoe',\n",
       " 'gdac',\n",
       " 'sqe',\n",
       " 'sqeq0',\n",
       " 'sqeqp',\n",
       " 'mgc',\n",
       " 'kcm',\n",
       " 'denr',\n",
       " 'tsef',\n",
       " 'charge2',\n",
       " 'veem',\n",
       " 'formal']"
      ]
     },
     "execution_count": 4,
     "metadata": {},
     "output_type": "execute_result"
    }
   ],
   "source": [
    "chargefw2_python.get_available_methods()"
   ]
  },
  {
   "cell_type": "markdown",
   "metadata": {},
   "source": [
    "All methods are described in the documentation: https://acc2.ncbr.muni.cz/static/assets/methods.pdf"
   ]
  },
  {
   "cell_type": "markdown",
   "metadata": {},
   "source": [
    "Some methods require parameters to be set for calculation. To see the list of parameters available for a given method, use:"
   ]
  },
  {
   "cell_type": "code",
   "execution_count": 5,
   "metadata": {},
   "outputs": [
    {
     "data": {
      "text/plain": [
       "['GDAC_00_original']"
      ]
     },
     "execution_count": 5,
     "metadata": {},
     "output_type": "execute_result"
    }
   ],
   "source": [
    "chargefw2_python.get_available_parameters('gdac')"
   ]
  },
  {
   "cell_type": "markdown",
   "metadata": {},
   "source": [
    "However, not all methods and parameters can be used for every set of molecules. Applicable combinations can be listed by using the `get_suitable_methods` function. The empty parameter list `[]` denotes that the method does not use parameters:"
   ]
  },
  {
   "cell_type": "code",
   "execution_count": 6,
   "metadata": {},
   "outputs": [
    {
     "data": {
      "text/plain": [
       "{'denr': ['DENR_00_from_QEq'],\n",
       " 'eem': ['EEM_00_NEEMP_ccd2016_npa',\n",
       "  'EEM_00_NEEMP_ccd2016_npa2',\n",
       "  'EEM_05_NEEMP_ccd2016_mpa',\n",
       "  'EEM_05_NEEMP_ccd2016_mpa2',\n",
       "  'EEM_10_Cheminf_b3lyp_aim',\n",
       "  'EEM_10_Cheminf_b3lyp_mpa',\n",
       "  'EEM_10_Cheminf_b3lyp_npa',\n",
       "  'EEM_10_Cheminf_hf_aim',\n",
       "  'EEM_10_Cheminf_hf_mpa',\n",
       "  'EEM_10_Cheminf_hf_npa'],\n",
       " 'eqeq': [],\n",
       " 'formal': [],\n",
       " 'mgc': [],\n",
       " 'qeq': ['QEq_00_original'],\n",
       " 'sqe': ['SQE_10_Schindler2021_CCD_gen'],\n",
       " 'sqeq0': ['SQEq0_10_Schindler2021_CCD_gen'],\n",
       " 'sqeqp': ['SQEqp_10_Schindler2021_CCD_gen'],\n",
       " 'tsef': ['TSEF_00_from_QEq'],\n",
       " 'veem': []}"
      ]
     },
     "execution_count": 6,
     "metadata": {},
     "output_type": "execute_result"
    }
   ],
   "source": [
    "chargefw2_python.get_suitable_methods(molecules)"
   ]
  },
  {
   "cell_type": "markdown",
   "metadata": {},
   "source": [
    "### Calculating charges"
   ]
  },
  {
   "cell_type": "markdown",
   "metadata": {},
   "source": [
    "Now, we are ready to calculate the charges. To do this, we use the `calculate_charges` function. It requires set of molecules and a method name with optional parameters name:"
   ]
  },
  {
   "cell_type": "code",
   "execution_count": 7,
   "metadata": {},
   "outputs": [
    {
     "name": "stdout",
     "output_type": "stream",
     "text": [
      "Help on built-in function calculate_charges in module chargefw2_python:\n",
      "\n",
      "calculate_charges(...) method of builtins.PyCapsule instance\n",
      "    calculate_charges(molecules: chargefw2_python.Molecules, method_name: str, parameters_name: Optional[str] = None) -> Dict[str, List[float]]\n",
      "    \n",
      "    Calculate partial atomic charges for a given molecules and method\n",
      "\n"
     ]
    }
   ],
   "source": [
    "help(chargefw2_python.calculate_charges)"
   ]
  },
  {
   "cell_type": "markdown",
   "metadata": {},
   "source": [
    "First, we use EEM with a particular parameter set:"
   ]
  },
  {
   "cell_type": "code",
   "execution_count": 8,
   "metadata": {},
   "outputs": [],
   "source": [
    "charges_eem = chargefw2_python.calculate_charges(molecules, 'eem', 'EEM_00_NEEMP_ccd2016_npa')"
   ]
  },
  {
   "cell_type": "markdown",
   "metadata": {},
   "source": [
    "Second, we can try another method, e.g., SQE+qp: "
   ]
  },
  {
   "cell_type": "code",
   "execution_count": 9,
   "metadata": {},
   "outputs": [],
   "source": [
    "charges_sqeqp = chargefw2_python.calculate_charges(molecules, 'sqeqp', 'SQEqp_10_Schindler2021_CCD_gen')"
   ]
  },
  {
   "cell_type": "markdown",
   "metadata": {},
   "source": [
    "The type of the results is a dictionary, the keys are the names of the molecules taken from the input file, the values are the list of charges (doubles):"
   ]
  },
  {
   "cell_type": "code",
   "execution_count": 10,
   "metadata": {},
   "outputs": [
    {
     "data": {
      "text/plain": [
       "'NSC_100000'"
      ]
     },
     "execution_count": 10,
     "metadata": {},
     "output_type": "execute_result"
    }
   ],
   "source": [
    "next(iter(charges_sqeqp))"
   ]
  },
  {
   "cell_type": "code",
   "execution_count": 11,
   "metadata": {},
   "outputs": [
    {
     "data": {
      "text/plain": [
       "[-0.4013101729679656,\n",
       " -0.49561754801827274,\n",
       " -0.5320169779840944,\n",
       " -0.19271326471408062,\n",
       " -0.1817703053559501,\n",
       " -0.17908407030152673,\n",
       " -0.1860744560889507,\n",
       " -0.20711936087690033,\n",
       " -0.028827174054946197,\n",
       " -0.22546219919455632,\n",
       " -0.15770951799946326,\n",
       " 0.16633318542675285,\n",
       " -0.08248127574078125,\n",
       " -0.18100334661131906,\n",
       " -0.16626188101220596,\n",
       " 0.39553675066291183,\n",
       " 0.5663927957687999,\n",
       " -0.17843021301267617,\n",
       " 0.20252704483948406,\n",
       " 0.2036824880561163,\n",
       " 0.20211436774927077,\n",
       " 0.20923268026389175,\n",
       " 0.20102006067141362,\n",
       " 0.21035760217244373,\n",
       " 0.20756160194174492,\n",
       " 0.20826824565813132,\n",
       " 0.21465115897924564,\n",
       " 0.21343042546931648,\n",
       " 0.1947733562741633]"
      ]
     },
     "execution_count": 11,
     "metadata": {},
     "output_type": "execute_result"
    }
   ],
   "source": [
    "charges_sqeqp['NSC_100000']"
   ]
  },
  {
   "cell_type": "markdown",
   "metadata": {},
   "source": [
    "### (Optional) Plotting the charges"
   ]
  },
  {
   "cell_type": "markdown",
   "metadata": {},
   "source": [
    "Finally, we can create a simple correlation plot to visually compare the calculated charges:"
   ]
  },
  {
   "cell_type": "code",
   "execution_count": 12,
   "metadata": {},
   "outputs": [],
   "source": [
    "import matplotlib.pyplot as plt"
   ]
  },
  {
   "cell_type": "code",
   "execution_count": 13,
   "metadata": {},
   "outputs": [
    {
     "data": {
      "text/plain": [
       "<matplotlib.collections.PathCollection at 0x7fa7d7947f70>"
      ]
     },
     "execution_count": 13,
     "metadata": {},
     "output_type": "execute_result"
    },
    {
     "data": {
      "image/png": "[encoded data removed]",
      "text/plain": [
       "<Figure size 360x360 with 1 Axes>"
      ]
     },
     "metadata": {
      "needs_background": "light"
     },
     "output_type": "display_data"
    }
   ],
   "source": [
    "xs = charges_eem['NSC_100000']\n",
    "ys = charges_sqeqp['NSC_100000']\n",
    "fig, ax = plt.subplots(1, 1, figsize=(5, 5))\n",
    "low = min(xs + ys)\n",
    "high = max(xs + ys)\n",
    "ax.set_xlim(low, high)\n",
    "ax.set_ylim(low, high)\n",
    "ax.set_aspect('equal')\n",
    "ax.plot([low, high], [low, high], c='grey')\n",
    "ax.scatter(xs, ys)"
   ]
  }
 ],
 "metadata": {
  "kernelspec": {
   "display_name": "Python 3 (ipykernel)",
   "language": "python",
   "name": "python3"
  },
  "language_info": {
   "codemirror_mode": {
    "name": "ipython",
    "version": 3
   },
   "file_extension": ".py",
   "mimetype": "text/x-python",
   "name": "python",
   "nbconvert_exporter": "python",
   "pygments_lexer": "ipython3",
   "version": "3.12.7"
  }
 },
 "nbformat": 4,
 "nbformat_minor": 4
}
